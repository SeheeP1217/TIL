{
 "cells": [
  {
   "cell_type": "markdown",
   "metadata": {},
   "source": [
    "### web_day2"
   ]
  },
  {
   "cell_type": "markdown",
   "metadata": {},
   "source": [
    "히히 내일은 제발 시간이 있기를 바라지만 또 없겟지"
   ]
  }
 ],
 "metadata": {
  "kernelspec": {
   "display_name": "Python 3.10.5 64-bit",
   "language": "python",
   "name": "python3"
  },
  "language_info": {
   "name": "python",
   "version": "3.10.5"
  },
  "orig_nbformat": 4,
  "vscode": {
   "interpreter": {
    "hash": "e3a2d55e2b7847c21802bd14d7498b583363bcf78edda0f72765dd1843b5d1bb"
   }
  }
 },
 "nbformat": 4,
 "nbformat_minor": 2
}
