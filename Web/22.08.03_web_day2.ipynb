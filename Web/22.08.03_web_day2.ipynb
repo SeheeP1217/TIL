{
 "cells": [
  {
   "cell_type": "markdown",
   "metadata": {},
   "source": [
    "### web_day2"
   ]
  },
  {
   "cell_type": "markdown",
   "metadata": {},
   "source": [
    "1. CSS Layout: float, flexbox\n",
    "2. BOOTSTRAP: bootstrap grid system\n",
    "3. Responsive Web"
   ]
  },
  {
   "cell_type": "markdown",
   "metadata": {},
   "source": [
    "### 1. CSS Layout\n",
    "\n",
    "- float: ex: .left {float:left;}\n",
    "- flexbox\n",
    "    - flex container: 부모요소\n",
    "    - flex item: 자식 요소\n",
    "    - main axis: row\n",
    "    - cross axis: "
   ]
  }
 ],
 "metadata": {
  "kernelspec": {
   "display_name": "Python 3.10.5 64-bit",
   "language": "python",
   "name": "python3"
  },
  "language_info": {
   "name": "python",
   "version": "3.10.5"
  },
  "orig_nbformat": 4,
  "vscode": {
   "interpreter": {
    "hash": "e3a2d55e2b7847c21802bd14d7498b583363bcf78edda0f72765dd1843b5d1bb"
   }
  }
 },
 "nbformat": 4,
 "nbformat_minor": 2
}
