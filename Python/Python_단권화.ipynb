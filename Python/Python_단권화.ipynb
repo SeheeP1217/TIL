{
 "cells": [
  {
   "cell_type": "markdown",
   "metadata": {},
   "source": [
    "1. 매개변수(*args, **kwargs)\n",
    "2. 딕셔너리 값에 대한 접근 방법 두가지 (딕셔너리, 리스트)\n",
    "3. truthy, falsy\n",
    "4. 각 자료형의 특징 (반복가능, 변경가능)\n",
    "5. 객체와 인스턴스(생성자와 속성, 메서드)\n",
    "    - 생성자가 뭔지 알아야함, 파괴자 몰라도 됨\n",
    "    - 속성과 메서드 핵심\n",
    "    - 속성에 두가지, 메서드에 세가지\n",
    "    - 메서드 세가지 중 많이 쓰는 거 시험\n",
    "6. 얕복, 깊복 (코드 돌렸을 때 프린트 값 예상)\n",
    "7. 여러가지 연산(곱하기, 나누기 등등)"
   ]
  },
  {
   "cell_type": "markdown",
   "metadata": {},
   "source": [
    "### [매개변수(*args, **kwargs)]\n",
    "  - *args(가변인자)\n",
    "    - 여러 개의 Positional Argument를 하나의 필수 parameter로 받아서 사용(몇개의 Positional Argument를 받을지 모르는 함수를 정의할 때 유용)\n",
    "    - 시퀀스를 풀어헤치는 연산자(주로 튜플, 리스트를 언패킹하는데 사용)\n",
    "    - *를 활용하여 가변 인자를 만들 수 있음"
   ]
  },
  {
   "cell_type": "code",
   "execution_count": 1,
   "metadata": {},
   "outputs": [
    {
     "name": "stdout",
     "output_type": "stream",
     "text": [
      "1 2 [3, 4, 5]\n",
      "[2, 3, 4]\n"
     ]
    }
   ],
   "source": [
    "#패킹/언패킹\n",
    "numbers = (1, 2, 3, 4, 5)\n",
    "\n",
    "a, b, *rest = numbers   #a, b에 1, 2가 각각 대입\n",
    "print(a, b, rest)       #rest에 나머지 모두 대입 [3, 4, 5]\n",
    "\n",
    "a, *rest, e = numbers   #a, e에 1, 5가 각각 대입\n",
    "print(rest)             #rest에 나머지 모두 대입 [2, 3, 4]"
   ]
  },
  {
   "cell_type": "code",
   "execution_count": 2,
   "metadata": {},
   "outputs": [
    {
     "name": "stdout",
     "output_type": "stream",
     "text": [
      "(1, 2, 3, 'a', 'b')\n",
      "<class 'tuple'>\n"
     ]
    }
   ],
   "source": [
    "def func(*args):\n",
    "    print(args)\n",
    "    print(type(args))\n",
    "\n",
    "func(1, 2, 3, 'a', 'b')"
   ]
  },
  {
   "cell_type": "code",
   "execution_count": 3,
   "metadata": {},
   "outputs": [
    {
     "name": "stdout",
     "output_type": "stream",
     "text": [
      "6\n",
      "21\n"
     ]
    }
   ],
   "source": [
    "def sum_all(*numbers):\n",
    "    result = 0\n",
    "    for number in numbers:\n",
    "        result += number\n",
    "    return result\n",
    "\n",
    "print(sum_all(1, 2, 3))\n",
    "print(sum_all(1, 2, 3, 4, 5, 6))"
   ]
  },
  {
   "cell_type": "code",
   "execution_count": 6,
   "metadata": {},
   "outputs": [
    {
     "name": "stdout",
     "output_type": "stream",
     "text": [
      "아버지 : 아부지\n",
      "어머니 : 어무니\n",
      "반려동물들..\n",
      "반려동물: 멍멍이\n",
      "반려동물: 냥냥이\n"
     ]
    }
   ],
   "source": [
    "#반드시 받아야하는 인자와, 추가적인 인자를 구분해서 사용 가능\n",
    "def print_family_name(father, mother, *pets):\n",
    "    print(f'아버지 : {father}')\n",
    "    print(f'어머니 : {mother}')\n",
    "    print('반려동물들..')\n",
    "    for name in pets:\n",
    "        print(f'반려동물: {name}')\n",
    "\n",
    "print_family_name('아부지', '어무니', '멍멍이', '냥냥이')"
   ]
  },
  {
   "cell_type": "markdown",
   "metadata": {},
   "source": [
    "- 가변 키워드 인자 (**kwargs)\n",
    "    - 몇 개의 키워드 인자를 받을지 모르는 함수를 정의할 때 유용\n",
    "    - 딕셔너리로 묶여 처리되며, parameter에 **를 붙여 표현\n",
    "    - 반드시 받아야하는 키워드 인자와, 추가적인 키워드 인자를 구분해서 사용할 수 있음"
   ]
  },
  {
   "cell_type": "code",
   "execution_count": 3,
   "metadata": {},
   "outputs": [
    {
     "name": "stdout",
     "output_type": "stream",
     "text": [
      "father : 아부지\n",
      "mother : 어무니\n",
      "baby : 아기\n"
     ]
    }
   ],
   "source": [
    "def family(**kwargs):\n",
    "    for key, value in kwargs.items():\n",
    "        print(key, \":\", value)\n",
    "family(father = '아부지', mother = '어무니', baby = '아기')"
   ]
  },
  {
   "cell_type": "code",
   "execution_count": 4,
   "metadata": {},
   "outputs": [
    {
     "name": "stdout",
     "output_type": "stream",
     "text": [
      "아버지 : 아부지\n",
      "어머니 : 어무이\n",
      "반려동물들..\n",
      "dog : 멍멍이\n",
      "cat : 냥냥이\n"
     ]
    }
   ],
   "source": [
    "def print_family_name(father, mother, **pets):\n",
    "    print(\"아버지 :\", father)\n",
    "    print(\"어머니 :\", mother)\n",
    "    if pets:\n",
    "        print(\"반려동물들..\")\n",
    "        for species, name in pets.items():\n",
    "            print(f'{species} : {name}')\n",
    "print_family_name('아부지', '어무이', dog = '멍멍이', cat = '냥냥이')"
   ]
  },
  {
   "cell_type": "code",
   "execution_count": 5,
   "metadata": {},
   "outputs": [
    {
     "name": "stdout",
     "output_type": "stream",
     "text": [
      "아버지 : 아부지\n",
      "어머니 : 어무이\n",
      "반려동물들...\n",
      "dog : 멍멍이\n",
      "cat : 냥냥이\n"
     ]
    }
   ],
   "source": [
    "# *args와 **kwargs 동시 사용 예시\n",
    "def print_family_name(*parents, **pets):\n",
    "    print(\"아버지 :\", parents[0])\n",
    "    print(\"어머니 :\", parents[1])\n",
    "    if pets:\n",
    "        print(\"반려동물들...\")\n",
    "        for title, name in pets.items():\n",
    "            print('{} : {}'.format(title, name))\n",
    "print_family_name('아부지', '어무이', dog = '멍멍이', cat = '냥냥이')"
   ]
  },
  {
   "cell_type": "code",
   "execution_count": null,
   "metadata": {},
   "outputs": [],
   "source": []
  }
 ],
 "metadata": {
  "kernelspec": {
   "display_name": "Python 3.10.5 64-bit",
   "language": "python",
   "name": "python3"
  },
  "language_info": {
   "codemirror_mode": {
    "name": "ipython",
    "version": 3
   },
   "file_extension": ".py",
   "mimetype": "text/x-python",
   "name": "python",
   "nbconvert_exporter": "python",
   "pygments_lexer": "ipython3",
   "version": "3.10.5"
  },
  "orig_nbformat": 4,
  "vscode": {
   "interpreter": {
    "hash": "e3a2d55e2b7847c21802bd14d7498b583363bcf78edda0f72765dd1843b5d1bb"
   }
  }
 },
 "nbformat": 4,
 "nbformat_minor": 2
}
