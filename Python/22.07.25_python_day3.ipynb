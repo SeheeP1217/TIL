{
 "cells": [
  {
   "cell_type": "markdown",
   "metadata": {},
   "source": [
    "## 데이터 구조(Data Structure)\n",
    "- 데이터 구조 활용: 메서드를 활용(데이터구조.메서드()형태로 활용!)\n",
    "- 파이썬 공식문서의 표기법: str. replace(old, new, [count]) -> old, new는 필수, [count]는 선택적 인자"
   ]
  },
  {
   "cell_type": "markdown",
   "metadata": {},
   "source": [
    "### 순서가 있는 데이터 구조\n",
    "1. 문자열(String Type)\n",
    "    - 모든 문자는 str타입\n",
    "    - ', \"를 활용하여 표기\n",
    "    - 문자열 조회/탐색 및 검증 메서드\n",
    "        - s.find(x): x의 첫번째 위치를 반환. 없으면 -1을 반환\n",
    "        - s.index(x): x의 첫번째 위치를 반환. 없으면 오류 발생\n",
    "        - s.isalpha((): 알파벳 문자 여부\n",
    "        - s.isupper(): 대문자 여부\n",
    "        - s.islower(): 소문자 여부\n",
    "        - s.istitle(): 타이틀 형식 여부\n",
    "    - 문자열 변경 메서드\n",
    "        - s.replace(old, new, [count]): 바꿀 대상 글자를 새로운 글자로 바꿔서 변환\n",
    "        - s.strip([chars]): 공백이나 특정 문자를 제거\n",
    "        - s.split(sep=None, maxsplit=-1): 공백이나 특정 문자를 기준으로 분리\n",
    "        - 'separator'.join([iterable]): 구분자로 iterable을 합침\n",
    "        - s.capitalize(): 가장 첫번째 글자를 대문자로 변경\n",
    "        - s.title(): 문자열 내 띄어쓰기 기준으로 각 단어의 첫글자는 대문자, 나머지는 소문자로 변환\n",
    "        - s.upper(): 모두 대문자로 변경\n",
    "        - s.lower(): 모두 소문자로 변경\n",
    "        - s.swapcase(): 대<->소문자 서로 변경\n"
   ]
  },
  {
   "cell_type": "code",
   "execution_count": 4,
   "metadata": {},
   "outputs": [
    {
     "name": "stdout",
     "output_type": "stream",
     "text": [
      "1\n",
      "-1\n",
      "True\n",
      "True\n",
      "False\n",
      "True\n",
      "True\n"
     ]
    }
   ],
   "source": [
    "#문자열 조회/탐색 및 검증 메서드\n",
    "print('apple'.find('p'))\n",
    "print('apple'.find('k'))\n",
    "#print('apple'.index('k')) 오류\n",
    "print('abc'.isalpha())\n",
    "print('ㄱㄴㄷ'.isalpha())\n",
    "print('Ab'.isupper())\n",
    "print('ab'.islower())\n",
    "print('Title Title!'.istitle())"
   ]
  },
  {
   "cell_type": "code",
   "execution_count": 11,
   "metadata": {},
   "outputs": [
    {
     "name": "stdout",
     "output_type": "stream",
     "text": [
      "caane\n",
      "w!!ooowoo\n",
      "와우!\n",
      "안녕하세요\n",
      "['a', 'b', 'c']\n",
      "s!s!a!f!y\n",
      "hI! Everyone, I'm ssafy\n",
      "Hi! everyone, i'm ssafy\n",
      "Hi! Everyone, I'M Ssafy\n",
      "HI! EVERYONE, I'M SSAFY\n",
      "hi! everyone, i'm ssafy\n",
      "Hi! eVERYONE, i'M SSAFY\n"
     ]
    }
   ],
   "source": [
    "#문자열 변경 메서드\n",
    "print('coone'.replace('o','a'))\n",
    "print('wooooowoo'.replace('o','!',2))\n",
    "print('   와우!\\n'.strip())\n",
    "print('안녕하세요???'.rstrip('?'))\n",
    "print('a,b,c'.split(','))\n",
    "print('!'.join('ssafy'))\n",
    "\n",
    "msg = 'hI! Everyone, I\\'m ssafy'\n",
    "\n",
    "print(msg)\n",
    "print(msg.capitalize())\n",
    "print(msg.title())\n",
    "print(msg.upper())\n",
    "print(msg.lower())\n",
    "print(msg.swapcase())\n"
   ]
  },
  {
   "cell_type": "markdown",
   "metadata": {},
   "source": [
    "2. 리스트\n",
    "    - 리스트는 [], list()를 통해 생성\n",
    "    - 가변 자료형\n",
    "    - list[i]로 값에 접근\n",
    "    - 리스트 메서드\n",
    "        - L.append(X): 리스트 마지막에 항목 X를 추가\n",
    "        - L.insert(i, x): 리스트 인덱스 i에 항목 X를 삽입\n",
    "        - L.remove(X): 리스트 가장 왼쪽에 있는 항목(첫번째) X를 제거, 항목이 존재하지 않을 경우, ValueError\n",
    "        - L.pop(): 리스트 가장 오른쪽에 있는 항목(마지막)을 반환 후 제거\n",
    "        - L.pop(i): 리스트 익덱스 i에 있는 항목을 반환 후 제거\n",
    "        - L.extend(m): 순회형 m의 모든 항목들의 리스트 끝에 추가(+=과 같은 기능)\n",
    "        - L.index(X, start, end): 리스트에 있는 항목 중 가장 왼쪽에 있는 항목 X의 인덱스를 반환\n",
    "        - L.sort(): 리스트를 정렬(매개변수 이용가능)\n",
    "        - L.count(x): 리스트에서 항목 x가 몇 개 존재하는지 개수를 반환\n"
   ]
  },
  {
   "cell_type": "code",
   "execution_count": 12,
   "metadata": {},
   "outputs": [
    {
     "name": "stdout",
     "output_type": "stream",
     "text": [
      "['starbucks', 'tomntoms', 'hollys']\n",
      "['starbucks', 'tomntoms', 'hollys', 'banapresso']\n"
     ]
    }
   ],
   "source": [
    "cafe = ['starbucks', 'tomntoms', 'hollys']\n",
    "print(cafe)\n",
    "cafe.append('banapresso')\n",
    "print(cafe)"
   ]
  },
  {
   "cell_type": "code",
   "execution_count": 13,
   "metadata": {},
   "outputs": [
    {
     "name": "stdout",
     "output_type": "stream",
     "text": [
      "['starbucks', 'tomntoms', 'hollys']\n",
      "['start', 'starbucks', 'tomntoms', 'hollys']\n"
     ]
    }
   ],
   "source": [
    "cafe = ['starbucks', 'tomntoms', 'hollys']\n",
    "print(cafe)\n",
    "cafe.insert(0,'start') #뒤에 넣을 때는 0 대신 큰 숫자\n",
    "print(cafe)"
   ]
  },
  {
   "cell_type": "code",
   "execution_count": 14,
   "metadata": {},
   "outputs": [
    {
     "name": "stdout",
     "output_type": "stream",
     "text": [
      "['starbucks', 'tomntoms', 'hollys']\n",
      "['starbucks', 'tomntoms', 'hollys', 'coffee']\n"
     ]
    }
   ],
   "source": [
    "cafe = ['starbucks', 'tomntoms', 'hollys']\n",
    "print(cafe)\n",
    "cafe.extend(['coffee'])\n",
    "print(cafe)\n"
   ]
  },
  {
   "cell_type": "code",
   "execution_count": 15,
   "metadata": {},
   "outputs": [
    {
     "name": "stdout",
     "output_type": "stream",
     "text": [
      "[1, 2, 3, 'hi']\n",
      "[1, 2, 3]\n"
     ]
    }
   ],
   "source": [
    "numbers = [1, 2, 3, 'hi']\n",
    "print(numbers)\n",
    "numbers.remove('hi')\n",
    "print(numbers)"
   ]
  },
  {
   "cell_type": "code",
   "execution_count": 17,
   "metadata": {},
   "outputs": [
    {
     "name": "stdout",
     "output_type": "stream",
     "text": [
      "hi\n",
      "[1, 2, 3]\n"
     ]
    }
   ],
   "source": [
    "numbers = [1, 2, 3, 'hi']\n",
    "word = numbers.pop()\n",
    "print(word)\n",
    "print(numbers)"
   ]
  },
  {
   "cell_type": "code",
   "execution_count": 19,
   "metadata": {},
   "outputs": [
    {
     "name": "stdout",
     "output_type": "stream",
     "text": [
      "[1, 2, 3, 'hi']\n"
     ]
    }
   ],
   "source": [
    "numbers = [1, 2, 3, 'hi']\n",
    "print(numbers)\n",
    "numbers.clear()\n"
   ]
  },
  {
   "cell_type": "code",
   "execution_count": 20,
   "metadata": {},
   "outputs": [
    {
     "name": "stdout",
     "output_type": "stream",
     "text": [
      "2\n"
     ]
    }
   ],
   "source": [
    "numbers = [1, 2, 3, 4]\n",
    "print(numbers.index(3))"
   ]
  },
  {
   "cell_type": "code",
   "execution_count": 22,
   "metadata": {},
   "outputs": [
    {
     "name": "stdout",
     "output_type": "stream",
     "text": [
      "3\n"
     ]
    }
   ],
   "source": [
    "numbers = [1, 2, 3, 1, 1]\n",
    "print(numbers.count(1))"
   ]
  },
  {
   "cell_type": "code",
   "execution_count": 24,
   "metadata": {},
   "outputs": [
    {
     "name": "stdout",
     "output_type": "stream",
     "text": [
      "[1, 2, 3, 5] None\n"
     ]
    }
   ],
   "source": [
    "numbers = [3, 2, 5, 1]  #sort 원본을 바꿈\n",
    "result = numbers.sort()\n",
    "print(numbers, result)\n"
   ]
  },
  {
   "cell_type": "code",
   "execution_count": 25,
   "metadata": {},
   "outputs": [
    {
     "name": "stdout",
     "output_type": "stream",
     "text": [
      "[3, 2, 5, 1] [1, 2, 3, 5]\n"
     ]
    }
   ],
   "source": [
    "numbers = [3, 2, 5, 1]  #sorted 새로운 리스트를 생성\n",
    "result = sorted(numbers)\n",
    "print(numbers, result)"
   ]
  },
  {
   "cell_type": "code",
   "execution_count": 27,
   "metadata": {},
   "outputs": [
    {
     "name": "stdout",
     "output_type": "stream",
     "text": [
      "[1, 5, 2, 3] None\n"
     ]
    }
   ],
   "source": [
    "numbers = [3, 2, 5, 1]\n",
    "result = numbers.reverse()\n",
    "print(numbers, result)"
   ]
  },
  {
   "cell_type": "markdown",
   "metadata": {},
   "source": [
    "3. 튜플\n",
    "    - 여러 개의 값을 순서가 있는 구조로 저장할 때 사용\n",
    "    - 리스트와 차이점은 담고 있는 값 변경이 불가(불변 자료형)\n",
    "    - 항상 소괄호()형태로 사용\n",
    "    - 값에 영향을 미치지 않는 메서드만 지원"
   ]
  },
  {
   "cell_type": "code",
   "execution_count": 31,
   "metadata": {},
   "outputs": [
    {
     "name": "stdout",
     "output_type": "stream",
     "text": [
      "<class 'tuple'>\n",
      "수\n",
      "('월', '화', '수', '목', '금', '월', '화', '수', '목', '금')\n"
     ]
    }
   ],
   "source": [
    "day_name = ('월', '화', '수', '목', '금')\n",
    "print(type(day_name))\n",
    "\n",
    "print(day_name[-3])\n",
    "print(day_name * 2)"
   ]
  },
  {
   "cell_type": "markdown",
   "metadata": {},
   "source": [
    "### 순서가 없는 데이터 구조\n",
    "1. Set\n",
    "    - 중복되는 요소 없이 순서 상관 없는 데이터 묶음\n",
    "    - 인덱스 접근 불가\n",
    "    - 집합 연산이 가능\n",
    "    - 기변 자료형\n",
    "    - 셋 메서드\n",
    "        - s.copy(): 셋의 얕은 복사본을 반환\n",
    "        - s.add(x): 항목 x가 셋 s에 없다면 추가\n",
    "        - s.pop(): 셋 s에서 랜덤하게 항목을 반환하고, 해당 항목을 제거(set이 비어있을 경우, KeyError)\n",
    "        - s.remove(x): 항목 x를 s에서 삭제(항목이 존재하지 않을 경우, KeyError)\n",
    "        - s.discard(x): 항목 x가 셋 s에 있는 경우, 항목 x를 셋 s에서 삭제\n",
    "        - s.update(t): 셋 t에 있는 모든 항목 중 셋 s에 없는 항목을 추가\n",
    "        - s.clear(): 모든 항목을 제거\n",
    "        - s.isdisjoint(t): 셋 s가 셋 t의 서로 같은 항목을 하나라도 갖고 있지 않은 경우 True 반환\n",
    "        - s.issubset(t): 셋 s가 셋 t의 하위 셋인 경우, True 반환(서로)\n",
    "        - s.issuperset(t): 셋 s가 셋 t의 상위 셋인 경우, True 반환\n",
    "    "
   ]
  },
  {
   "cell_type": "code",
   "execution_count": 32,
   "metadata": {},
   "outputs": [
    {
     "name": "stdout",
     "output_type": "stream",
     "text": [
      "{'수박', '사과', '바나나'}\n",
      "{'딸기', '수박', '사과', '바나나'}\n"
     ]
    }
   ],
   "source": [
    "a = {'사과', '바나나', '수박'}\n",
    "print(a)\n",
    "a.add('딸기')   #딸기가 들어가는 순서는 랜덤\n",
    "print(a)"
   ]
  },
  {
   "cell_type": "code",
   "execution_count": 34,
   "metadata": {},
   "outputs": [
    {
     "name": "stdout",
     "output_type": "stream",
     "text": [
      "{'수박', '사과', '바나나'}\n",
      "{'수박', '바나나', '사과', '딸기', '참외'}\n"
     ]
    }
   ],
   "source": [
    "a = {'사과', '바나나', '수박'}\n",
    "print(a)\n",
    "a.update(['딸기', '바나나', '참외'])\n",
    "print(a)"
   ]
  },
  {
   "cell_type": "code",
   "execution_count": 36,
   "metadata": {},
   "outputs": [
    {
     "name": "stdout",
     "output_type": "stream",
     "text": [
      "{'수박', '사과', '바나나'}\n",
      "{'수박', '바나나'}\n"
     ]
    }
   ],
   "source": [
    "a = {'사과', '바나나', '수박'}\n",
    "print(a)\n",
    "a.remove('사과')\n",
    "print(a)\n",
    "#a.remove('애플')   애플이 없어서 에러\n",
    "#print(a)"
   ]
  },
  {
   "cell_type": "code",
   "execution_count": 37,
   "metadata": {},
   "outputs": [
    {
     "name": "stdout",
     "output_type": "stream",
     "text": [
      "{'수박', '사과', '바나나'}\n",
      "{'수박', '바나나'}\n",
      "{'수박', '바나나'}\n"
     ]
    }
   ],
   "source": [
    "a = {'사과', '바나나', '수박'}\n",
    "print(a)\n",
    "a.discard('사과')\n",
    "print(a)\n",
    "a.discard('애플')   #애플이 없어도 에러X\n",
    "print(a)"
   ]
  },
  {
   "cell_type": "code",
   "execution_count": 38,
   "metadata": {},
   "outputs": [
    {
     "name": "stdout",
     "output_type": "stream",
     "text": [
      "{'수박', '사과', '바나나'}\n",
      "{'사과', '바나나'}\n"
     ]
    }
   ],
   "source": [
    "a = {'사과', '바나나', '수박'}\n",
    "print(a)\n",
    "a.pop()     #랜덤하게 삭제\n",
    "print(a)"
   ]
  },
  {
   "cell_type": "code",
   "execution_count": 40,
   "metadata": {},
   "outputs": [
    {
     "name": "stdout",
     "output_type": "stream",
     "text": [
      "{'수박', '사과', '바나나'}\n",
      "set()\n"
     ]
    }
   ],
   "source": [
    "a = {'사과', '바나나', '수박'}\n",
    "print(a)\n",
    "a.clear()\n",
    "print(a)\n"
   ]
  },
  {
   "cell_type": "code",
   "execution_count": 44,
   "metadata": {},
   "outputs": [
    {
     "name": "stdout",
     "output_type": "stream",
     "text": [
      "True\n",
      "True\n",
      "False\n"
     ]
    }
   ],
   "source": [
    "a = {'사과', '바나나', '수박'}                  \n",
    "b = {'포도', '망고'}\n",
    "c = {'사과', '포도', '망고', '수박', '바나나'}\n",
    "print(a.isdisjoint(b))      #A와 B는 서로소인가?\n",
    "print(b.issubset(c))        #B가 C의 하위셋인가?\n",
    "print(a.issuperset(c))      #A가 C의 상위셋인가?"
   ]
  },
  {
   "cell_type": "markdown",
   "metadata": {},
   "source": [
    "2. 딕셔너리\n",
    "    - 키, 값 쌍으로 이루어진 자료형\n",
    "    - 키는 변경 불가능한 데이터만 활용 가능\n",
    "    - 딕셔너리 메서드\n",
    "        - d.clear(): 모든 항목을 제거\n",
    "        - d.copy(): 딕셔너리 d의 얕은 복사본을 반환\n",
    "        - d.keys(): 딕서너리 d의 모든 키를 담은 뷰를 반환\n",
    "        - d.values(): 딕셔너리 d의 모든 값을 담은 뷰를 반환\n",
    "        - d.items(): 딕셔너리 d의 모든 키-값의 쌍을 담은 뷰를 반환\n",
    "        - d.get(k): 키 k의 값을 반환하는데, 키 k가 딕셔너리 d에 없을 경우 None을 반환\n",
    "        - d.get(k, v): 키 k의 값을 반환하는데, 키 k가 딕셔너리 d에 없을 경우 v를 반환\n",
    "        - d.pop(k): 키 k의 값을 반환하고 키 k인 항목을 딕셔너리 d에서 삭제하는데, 키 k가 딕셔너리 d에 없을 경우 KeyError를 발생\n",
    "        - d.pop(k, v): 키 k의 값을 반환하고 키 k인 항목을 딕셔너리 d에서 삭제하는데, 키 k가 딕셔너리 d에 없을 경우 v를 반환\n",
    "        - d.update([other]): 딕셔너리 d의 값을 매핑하여 업데이트"
   ]
  },
  {
   "cell_type": "code",
   "execution_count": 46,
   "metadata": {},
   "outputs": [
    {
     "name": "stdout",
     "output_type": "stream",
     "text": [
      "사과\n",
      "0\n"
     ]
    }
   ],
   "source": [
    "my_dict = {'apple': '사과', 'banana': '바나나'}\n",
    "print(my_dict.get('apple'))\n",
    "print(my_dict.get('pineapple', 0))"
   ]
  },
  {
   "cell_type": "code",
   "execution_count": 48,
   "metadata": {},
   "outputs": [
    {
     "name": "stdout",
     "output_type": "stream",
     "text": [
      "사과 {'banana': '바나나'}\n",
      "{'banana': '바나나'}\n"
     ]
    }
   ],
   "source": [
    "my_dict = {'apple': '사과', 'banana': '바나나'}\n",
    "data = my_dict.pop('apple')\n",
    "print(data, my_dict)\n",
    "print(my_dict)"
   ]
  },
  {
   "cell_type": "code",
   "execution_count": 49,
   "metadata": {},
   "outputs": [
    {
     "name": "stdout",
     "output_type": "stream",
     "text": [
      "{'apple': '사과', 'banana': '바나나'}\n"
     ]
    }
   ],
   "source": [
    "my_dict = {'apple': '사', 'banana': '바나나'}\n",
    "my_dict.update(apple='사과')\n",
    "print(my_dict)"
   ]
  },
  {
   "cell_type": "code",
   "execution_count": 53,
   "metadata": {},
   "outputs": [
    {
     "name": "stdout",
     "output_type": "stream",
     "text": [
      "apple\n",
      "banana\n",
      "사과\n",
      "바나나\n",
      "key: apple / value: 사과\n",
      "key: banana / value: 바나나\n"
     ]
    }
   ],
   "source": [
    "my_dict = {'apple': '사과', 'banana': '바나나'}\n",
    "\n",
    "for key in my_dict:\n",
    "    print(key)\n",
    "\n",
    "for value in my_dict.values():\n",
    "    print(value)\n",
    "\n",
    "for key, value in my_dict.items():\n",
    "    print(f'key: {key} / value: {value}')"
   ]
  },
  {
   "cell_type": "markdown",
   "metadata": {},
   "source": [
    "### 얕은 복사와 깊은 복사"
   ]
  },
  {
   "cell_type": "markdown",
   "metadata": {},
   "source": [
    "1. 할당(Assignment)"
   ]
  },
  {
   "cell_type": "code",
   "execution_count": 54,
   "metadata": {},
   "outputs": [
    {
     "name": "stdout",
     "output_type": "stream",
     "text": [
      "[1, 2, 3] [1, 2, 3]\n",
      "['hello', 2, 3] ['hello', 2, 3]\n"
     ]
    }
   ],
   "source": [
    "original_list = [1, 2, 3]\n",
    "copy_list = original_list\n",
    "print(original_list, copy_list)\n",
    "\n",
    "copy_list[0] = 'hello'\n",
    "print(original_list, copy_list)"
   ]
  },
  {
   "cell_type": "markdown",
   "metadata": {},
   "source": [
    "2. 얕은 복사(Shallow copy)"
   ]
  },
  {
   "cell_type": "code",
   "execution_count": 55,
   "metadata": {},
   "outputs": [
    {
     "name": "stdout",
     "output_type": "stream",
     "text": [
      "[1, 2, 3] [1, 2, 3]\n",
      "[1, 2, 3] [5, 2, 3]\n"
     ]
    }
   ],
   "source": [
    "a = [1, 2, 3]\n",
    "b = a[:]\n",
    "print(a, b)\n",
    "b[0] = 5\n",
    "print(a, b)"
   ]
  },
  {
   "cell_type": "code",
   "execution_count": 1,
   "metadata": {},
   "outputs": [
    {
     "name": "stdout",
     "output_type": "stream",
     "text": [
      "[1, 2, ['a', 'b']] [1, 2, ['a', 'b']]\n",
      "[1, 2, [0, 'b']] [1, 2, [0, 'b']]\n"
     ]
    }
   ],
   "source": [
    "a = [1, 2, ['a', 'b']]\n",
    "b = a[:]\n",
    "print(a, b)\n",
    "b[2][0] = 0\n",
    "print(a, b)         #복사하는 리스트의 원소가 주소를 참조하는 경우 안되므로 깊은 복사 필요"
   ]
  },
  {
   "cell_type": "markdown",
   "metadata": {},
   "source": [
    "3. 깊은 복사(Deep copy)"
   ]
  },
  {
   "cell_type": "code",
   "execution_count": 2,
   "metadata": {},
   "outputs": [
    {
     "name": "stdout",
     "output_type": "stream",
     "text": [
      "[1, 2, ['a', 'b']] [1, 2, ['a', 'b']]\n",
      "[1, 2, ['a', 'b']] [1, 2, [0, 'b']]\n"
     ]
    }
   ],
   "source": [
    "import copy\n",
    "a = [1, 2, ['a', 'b']]\n",
    "b = copy.deepcopy(a)\n",
    "print(a, b)\n",
    "b[2][0] = 0\n",
    "print(a, b)"
   ]
  },
  {
   "cell_type": "code",
   "execution_count": null,
   "metadata": {},
   "outputs": [],
   "source": []
  }
 ],
 "metadata": {
  "kernelspec": {
   "display_name": "Python 3.9.13 64-bit",
   "language": "python",
   "name": "python3"
  },
  "language_info": {
   "codemirror_mode": {
    "name": "ipython",
    "version": 3
   },
   "file_extension": ".py",
   "mimetype": "text/x-python",
   "name": "python",
   "nbconvert_exporter": "python",
   "pygments_lexer": "ipython3",
   "version": "3.9.13"
  },
  "orig_nbformat": 4,
  "vscode": {
   "interpreter": {
    "hash": "3d3579b64ed644892bc49d0da2d1890659408e00eebf25200bc250e1696a02dd"
   }
  }
 },
 "nbformat": 4,
 "nbformat_minor": 2
}
