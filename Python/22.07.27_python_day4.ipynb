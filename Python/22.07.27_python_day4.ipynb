{
 "cells": [
  {
   "cell_type": "markdown",
   "metadata": {},
   "source": [
    "## 객체지향 프로그래밍(OOP)"
   ]
  },
  {
   "cell_type": "markdown",
   "metadata": {},
   "source": [
    "- 객체 지향 프로그래밍: 컴퓨터 프로그래밍의 패러다임 중 하나, 컴퓨터 프로그램을 명령어의 목록으로 보는 시각에서 벗어나 여러개의 독립된 단위, 즉 \"객체\"들의 모임으로 파악하고자 하는 것.\n",
    "- 데이터와 기능(메서드) 분리, 추상화된 구조(인터페이스)\n",
    "- 장점: 클래스 단위로 모듈화 시켜 개발하므로 많은 인원이 참여하는 대규모 소프트웨어 개발에 적합\n",
    "        필요한 부분만 수정하기 쉽기 때문에 유지보수 쉬움\n",
    "- 단점: 설계시 많은 노력과 시간이 필요함(다양한 객체들의 상호작용 구조를 만들기 위해 많은 시간과 노력이 필요)\n",
    "        실행 속도가 상대적으로 느림(절차 지향 프로그래밍이 컴퓨터의 처리구조와 비슷해서 실행 속도가 빠름)"
   ]
  },
  {
   "cell_type": "markdown",
   "metadata": {},
   "source": [
    "### OOP의 기초\n",
    "- 객체(컴퓨터 과학)-속성과 행동으로 구성된 모든 것\n",
    "    : 컴퓨터 과학에서 객체 또는 오브젝트(object)는 클래스에서 정의한 것을 토대로 메모리(실제 저장공간)에 할당된 것\n",
    "    : 프로그램에서 사용되는 데이터 또는 식별자에 의해 참조되는 공간을 의미하며, 변수, 자료구조, 함수 또는 메서드가 될 수 있다.\n",
    "- 객체 vs 인스턴스\n",
    "    : '특정' 클래스로 만든 객체를 인스턴스 라고도 함\n",
    "- 객체 vs 클래스\n",
    "    : 클래스는 type임, 실제로 존재 X/ 객체는 실제 사례(값)임\n",
    "- 클래스 vs 인스턴스\n",
    "    : 객체의 설계도(클래스)를 가지고, 객체(인스턴스)를 생성\n",
    "    클래스: 객체들의 분류/ 설계도(class)\n",
    "    인스턴스: 하나하나의 실체/ 예(instance)\n",
    "- 파이썬은 모든 것이 객체(파이썬의 모든 것엔 속성과 행동이 존재)\n",
    "- 객체\n",
    "    - 타입(type): 어떤 연산자(operator)와 조작(method)이 가능한가?\n",
    "    - 속성(attribute): 어떤 상태(데이터)를 가지는가?\n",
    "    - 조작법(method): 어떤 행위(함수)를 할 수 있는가?\n",
    "    -> 객체(Object) = 속성(Attribute)(상태, 정보) + 기능(Method)\n",
    "- 기본 문법\n",
    "    - 클래스 정의   class Myclass:\n",
    "    - 인스턴스 생성 my_instance = Myclass()\n",
    "    - 메서드 호출   my_instance.my_method()\n",
    "    - 속성          my_instance.my_attribute\n",
    "- 객체 비교하기\n",
    "    - ==\n",
    "        - 동등한(equal)\n",
    "        - 변수가 참조하는 객체가 동등한(내용이 같은) 경우 True\n",
    "        - 두 객체가 같아 보이지만 실제로 동일한 대상을 가리키고 있다고 확인해 준 것은 아님\n",
    "    - is\n",
    "        - 동일한(identical)\n",
    "        - 두 변수가 동일한 객체를 가르키는 경우 True\n",
    "\n",
    "\n"
   ]
  },
  {
   "cell_type": "code",
   "execution_count": 2,
   "metadata": {},
   "outputs": [
    {
     "name": "stdout",
     "output_type": "stream",
     "text": [
      "True False\n",
      "True True\n"
     ]
    }
   ],
   "source": [
    "a = [1, 2, 3]\n",
    "b = [1, 2, 3]\n",
    "print(a == b, a is b)\n",
    "\n",
    "a = [1, 2, 3]\n",
    "b = a\n",
    "print(a == b, a is b)"
   ]
  },
  {
   "cell_type": "markdown",
   "metadata": {},
   "source": [
    "### OOP 속성\n",
    "- 속성(데이터, 정보, 상태)->변수\n",
    "    : 특정 데이터 타입/클래스의 객체들이 가지게 될 상태/데이터를 의미\n",
    "      클래스 변수 / 인스턴스 변수가 존재"
   ]
  },
  {
   "cell_type": "code",
   "execution_count": 4,
   "metadata": {},
   "outputs": [
    {
     "name": "stdout",
     "output_type": "stream",
     "text": [
      "지민\n"
     ]
    }
   ],
   "source": [
    "class Person:\n",
    "    blood_color = 'red'         #클래스 변수\n",
    "    population = 100            #클래스 변수\n",
    "\n",
    "    def __init__(self, name):\n",
    "        self.name = name        #인스턴스 변수\n",
    "\n",
    "person1 = Person('지민')\n",
    "print(person1.name)             #지민"
   ]
  },
  {
   "cell_type": "markdown",
   "metadata": {},
   "source": [
    "- 인스턴스 변수(나 혼자만 씀)\n",
    "    - 인스턴스가 개인적으로 가지고 있는 속성(attribute)\n",
    "    - 각 인스턴스들의 고유한 변수\n",
    "- 생성자 메서드(__init__)에서 self.<name>으로 정의\n",
    "- 인스턴스가 생성된 이후 <instance>.<name>으로 접근 및 할당"
   ]
  },
  {
   "cell_type": "code",
   "execution_count": 5,
   "metadata": {},
   "outputs": [
    {
     "name": "stdout",
     "output_type": "stream",
     "text": [
      "john\n",
      "John Kim\n"
     ]
    }
   ],
   "source": [
    "class Person:\n",
    "    \n",
    "    def __init__(self, name):       #인스턴스 변수 정의(self는 자동값)\n",
    "        self.name = name\n",
    "\n",
    "john = Person('john')               #인스턴스 변수 접근 및 할당\n",
    "print(john.name)\n",
    "john.name = 'John Kim'              #인스턴스 변수 접근 및 할당\n",
    "print(john.name)"
   ]
  },
  {
   "cell_type": "markdown",
   "metadata": {},
   "source": [
    "- 클래스 변수\n",
    "    - 클래스 선언 내부에서 정의\n",
    "    - <classname>.<name>으로 접근 및 할당"
   ]
  },
  {
   "cell_type": "code",
   "execution_count": 12,
   "metadata": {},
   "outputs": [
    {
     "name": "stdout",
     "output_type": "stream",
     "text": [
      "3.14\n",
      "3.14\n",
      "3.14\n",
      "5\n",
      "5\n",
      "5\n"
     ]
    }
   ],
   "source": [
    "class Circle():\n",
    "    pi = 3.14 #클래스 변수 정의\n",
    "\n",
    "    def __init__(self, r):\n",
    "        self.r = r #인스턴스 변수\n",
    "\n",
    "c1 = Circle(5)\n",
    "c2 = Circle (10)\n",
    "\n",
    "print(Circle.pi)    #3.14   인스턴스 변수에 pi가 없으면 클래스 변수로 가서 탐색\n",
    "print(c1.pi)        #3.14   인스턴스(각자 개인용) -> 클래스(공용)\n",
    "print(c2.pi)        #3.14\n",
    "\n",
    "Circle.pi = 5       #클래스 변수 재정의\n",
    "print(Circle.pi)    #5\n",
    "print(c1.pi)        #5\n",
    "print(c2.pi)        #5\n"
   ]
  },
  {
   "cell_type": "markdown",
   "metadata": {},
   "source": [
    "- 클래스 변수 활용(사용자 수 계산하기)\n",
    "    - 사용자가 몇 명인지 확인하고 싶다면 인스턴스가 생성될 때마다 클래스 변수가 늘어나도록 설정"
   ]
  },
  {
   "cell_type": "code",
   "execution_count": 13,
   "metadata": {},
   "outputs": [
    {
     "name": "stdout",
     "output_type": "stream",
     "text": [
      "2\n"
     ]
    }
   ],
   "source": [
    "class Person:\n",
    "    count = 0 #->공용\n",
    "    #인스턴스 변수 설정\n",
    "    def __init__(self, name):   #->생성자\n",
    "        self.name = name\n",
    "        Person.count += 1 #->인스턴스 변수가 생성될 때마다 이 줄도 생성\n",
    "\n",
    "person1 = Person('아이유')\n",
    "person2 = Person('이찬혁')\n",
    "\n",
    "print(Person.count)"
   ]
  },
  {
   "cell_type": "markdown",
   "metadata": {},
   "source": [
    "- 클래스 변수와 인스턴스 변수\n",
    "    - 클래스 변수를 변경할 때는 항상 클래스.클래스변수 형식으로 변경\n",
    "    - 인스턴디 변수를 바꾸고 싶으면 인스턴스.변수 형식으로 변경"
   ]
  },
  {
   "cell_type": "code",
   "execution_count": 14,
   "metadata": {},
   "outputs": [
    {
     "name": "stdout",
     "output_type": "stream",
     "text": [
      "3.14\n",
      "3.14\n",
      "3.14\n",
      "5\n",
      "5\n",
      "5\n",
      "5\n",
      "5\n",
      "5\n"
     ]
    }
   ],
   "source": [
    "class Circle():\n",
    "    pi = 3.14   #클래스 변수 정의\n",
    "\n",
    "    def __init__(self, r):\n",
    "        self.r = r #인스턴스 변수\n",
    "\n",
    "c1 = Circle(5)\n",
    "c2 = Circle(10)\n",
    "\n",
    "print(Circle.pi)    #3.14   인스턴스 변수에 pi가 없으면 클래스 변수로 가서 탐색\n",
    "print(c1.pi)        #3.14   인스턴스(각자 개인용) -> 클래스(공용)\n",
    "print(c2.pi)        #3.14\n",
    "\n",
    "Circle.pi = 5       #클래스 변수 재정의\n",
    "print(Circle.pi)    #5\n",
    "print(c1.pi)        #5\n",
    "print(c2.pi)        #5\n",
    "\n",
    "c2.pi = 5           #인스턴스 변수 변경\n",
    "print(Circle.pi)    #3.14 (클래스 변수)\n",
    "print(c1.pi)        #3.14 (클래스 변수)\n",
    "print(c2.pi)        #5 (새로운 인스턴스 변수가 생성됨)"
   ]
  },
  {
   "cell_type": "markdown",
   "metadata": {},
   "source": [
    "### OOP 메서드\n",
    "- 메서드 : 특정 데이터 타입/클래스의 객체에 공통적으로 적용 가능한 행위(함수)"
   ]
  },
  {
   "cell_type": "code",
   "execution_count": 15,
   "metadata": {},
   "outputs": [
    {
     "name": "stdout",
     "output_type": "stream",
     "text": [
      "안녕\n",
      "피자를 냠냠\n",
      "치킨를 냠냠\n"
     ]
    }
   ],
   "source": [
    "class Person:\n",
    "\n",
    "    def talk(self):\n",
    "        print('안녕')\n",
    "\n",
    "    def eat(self, food):\n",
    "        print(f'{food}를 냠냠')\n",
    "\n",
    "person1 = Person()\n",
    "person1.talk()\n",
    "person1.eat('피자')\n",
    "person1.eat('치킨')"
   ]
  },
  {
   "cell_type": "markdown",
   "metadata": {},
   "source": [
    "- 메서드의 종류\n",
    "    - 인스턴스 메서드: 인스턴스 처리\n",
    "        - 인스턴스 변수를 사용하거나, 인스턴스 변수에 값을 설정하는 메서드\n",
    "        - 클래스 내부에 정의되는 메서드으 기본\n",
    "        - 호출 시, 첫번째 인자로 인스턴스 자기자신(self)이 전달됨 (자동)\n",
    "        - self\n",
    "            - 인스턴스 자기자신\n",
    "            - 파이썬에서 인스턴스 메서드는 호출 시 첫번째 인자로 인스턴스 자신이 전달되게 설계\n",
    "                - 매개변수 이름으로 self를 첫번째 인자로 정의\n",
    "                - 다른 단어로 써도 작동하지만, 파이썬의 암묵적인 규칙\n",
    "        - 생성자(constructor) 메서드: 인스턴스 객체가 생성될 때 자동으로 호출되는 메서드\n",
    "            - 인스턴스 변수들의 초기값을 설정: 인스턴스 생성, __init__메서드 자동 호출 \n",
    "            ->self가 있으면 인스턴스 메서드다\n",
    "        - 매직메서드(__)\n",
    "            - 더블언더스코어(던더)가 있는 메서드는 특수한 동작을 위해 만들어진 메서드로, 스페셜 메서드 혹은 매직 메서드라고 불림\n",
    "            - 특정 상황에 자동으로 불리는 메서드, 객체의 특수 조작 행위를 지정(함수, 연산자 등)\n",
    "            - __str__: 해당 객체의 출력 형태를 지정, 프린트 함수를 호출할 때, 자동으로 호출\n",
    "            - __gt__: 부등호 연산자\n",
    "        - 소멸자(destructor)메서드: 인스턴스 객체가 소멸(파괴)되기 직전에 호출되는 메서드\n",
    "    - 클래스 메서드: 클래스 처리\n",
    "        - @classmethod 데코레이터를 사용하여 정의\n",
    "        - 호출 시, 첫번째 인자로 클래스(cls)가 전달됨\n",
    "        - 데코레이터\n",
    "            - 함수를 어떤 함수로 꾸며서 새로운 기능을 부여\n",
    "            - @데코레이터(함수명) 형태로 함수 위에 작성\n",
    "            - 순서대로 적용 되기 때문에 작성 순서가 중요\n",
    "\n",
    "    - 클래스 메서드 vs 인스턴스 메서드\n",
    "        - 클래스 메서드 -> 클래스 변수 사용\n",
    "        - 인스턴스 메서드 -> 인스턴스 변수 사용\n",
    "        - 클래스는 인스턴스 변수 사용이 불가능\n",
    "        - 인스턴스 메서드는 클래스 변수, 인스턴스 변수 둘 다 사용이 가능\n",
    "    - 인스턴스와 클래스 간의 이름 공간(namespace)\n",
    "        - 클래스를 정의하면, 클래스와 해당하는 이름 공간 생성\n",
    "        - 인스턴스를 만들면, 인스턴스 객체가 생성되고 이름 공간 생성\n",
    "        - 인스턴스에서 특정 속성에 접근하면, 인스턴스-클래스 순으로 탐색\n",
    "\n",
    "    - 정적 메서드: 나머지 처리\n",
    "        - 스태틱 메서드\n",
    "            - 인스턴트 변수, 클래스 변수를 전혀 다루지 않음 -> 객체 상태나 클래스 상태 수정을 할 수 없음\n",
    "            - 속성을 다루지 않고 단지 기능만을 하는 메서드를 정의할 때 사용\n",
    "            - @staticmethod 데코레이터를 사용하여 정의\n",
    "            - 일반 함수처럼 동작하지만, 클래스의 이름 공간에 귀속됨(주로 해당 클래스로 한정하는 용도로 사용)\n",
    "    25분"
   ]
  },
  {
   "cell_type": "code",
   "execution_count": 16,
   "metadata": {},
   "outputs": [
    {
     "name": "stdout",
     "output_type": "stream",
     "text": [
      "2\n"
     ]
    }
   ],
   "source": [
    "#클래스 메서드 활용\n",
    "\n",
    "class Person:\n",
    "    count = 0                   #클래스 변수\n",
    "    def __init__(self, name):   #인스턴스 변수 설정\n",
    "        self.name = name\n",
    "        Person.count += 1\n",
    "\n",
    "    @classmethod                #데코레이터\n",
    "    def number_of_population(cls):\n",
    "        print(f'인구수는 {cls.count}입니다.')\n",
    "\n",
    "person1 = Person('아이유')\n",
    "person2 = Person('이찬혁')\n",
    "print(Person.count)"
   ]
  },
  {
   "cell_type": "code",
   "execution_count": 17,
   "metadata": {},
   "outputs": [
    {
     "name": "stdout",
     "output_type": "stream",
     "text": [
      "함수 시작\n",
      "hello\n",
      "함수 끝\n",
      "함수 시작\n",
      "hello\n",
      "함수 끝\n"
     ]
    }
   ],
   "source": [
    "#데코레이터 없이 함수 꾸미기\n",
    "\n",
    "def hello():\n",
    "    print(\"hello\")\n",
    "\n",
    "#데코레이팅 함수\n",
    "def add_print(original):    #파라미터로 함수를 받는다.\n",
    "    def wrapper():          #함수 내에서 새로운 함수 선언\n",
    "        print(\"함수 시작\")  #부가기능 -> original 함수를 꾸민다.\n",
    "        original()\n",
    "        print(\"함수 끝\")    #부가기능 -> original 함수를 꾸민다.\n",
    "    return wrapper          #함수를 return 한다.\n",
    "\n",
    "add_print(hello)()\n",
    "\n",
    "print_hello = add_print(hello)\n",
    "print_hello()"
   ]
  },
  {
   "cell_type": "code",
   "execution_count": 18,
   "metadata": {},
   "outputs": [
    {
     "name": "stdout",
     "output_type": "stream",
     "text": [
      "함수 시작\n",
      "hello\n",
      "함수 끝\n"
     ]
    }
   ],
   "source": [
    "#데코레이터 활용\n",
    "\n",
    "def add_print(original):    #파라미터로 함수를 받는다.\n",
    "    def wrapper():          #함수 내에서 새로운 함수 선언\n",
    "        print(\"함수 시작\")  #부가기능 -> original 함수를 꾸민다.\n",
    "        original()\n",
    "        print(\"함수 끝\")    #부가기능 -> original 함수를 꾸민다.\n",
    "    return wrapper          #함수를 return 한다.\n",
    "\n",
    "@add_print                  #add_print를 사용해서 print_hello()함수를 꾸며주도록 하는 명령어\n",
    "def print_hello():\n",
    "    print(\"hello\")\n",
    "\n",
    "print_hello()"
   ]
  },
  {
   "cell_type": "markdown",
   "metadata": {},
   "source": [
    "### 메서드 정리\n",
    "- 인스턴스 메서드: 호출한 인스턴스를 의미하는 self 매개 변수를 통해 인스턴스를 조작\n",
    "    - 인스턴스는 클래식 메서드와 스태틱 메서드 모두 접근할 수 있음\n",
    "- 클래스 메서드: 클래스를 의미하는 cls 매개변수를 통해 클래스를 조작\n",
    "- 스태틱 메서드: 클래스 변수나 인스턴스 변수를 사용하지 않는 경우에 사용(객체 상태나 클래스 상태 수정할 수 없음)"
   ]
  },
  {
   "cell_type": "markdown",
   "metadata": {},
   "source": []
  },
  {
   "cell_type": "code",
   "execution_count": 19,
   "metadata": {},
   "outputs": [],
   "source": [
    "class MyClass:\n",
    "    \n",
    "    def method(self):\n",
    "        return 'instance method', self\n",
    "\n",
    "    @classmethod    #함수 이름\n",
    "    def classmethod(cls):\n",
    "        return 'class method', cls\n",
    "    \n",
    "    @staticmethod\n",
    "    def staticmethod():\n",
    "        return 'static method'"
   ]
  },
  {
   "cell_type": "markdown",
   "metadata": {},
   "source": [
    "### 객체 지향의 핵심개념\n",
    "1. 추상화\n",
    "    - 현실 세계를 프로그램 설계에 반영\n",
    "    - 변수, 함수, 클래스\n",
    "2. 상속\n",
    "    - 두 클래스 사이 부모-자식 관계를 정립하는 것\n",
    "    - 클래스는 상속이 가능(object 상속)\n",
    "    - 하위 클래스는 상위 클래스에 정의된 속성(데이터), 행동(메서드), 관계 및 제약 조건을 모두 상속 받음\n",
    "    - 코드 재사용성이 높아짐\n",
    "    - 상속 없이 구현하면 메서드를 중복 정의해서 코드가 반복되어야함\n",
    "    - 상속 관련 함수와 메서드\n",
    "        - isinstance(object, classinfo): classinfo의 instance거나 subclass*인 경우 True\n",
    "        - issubclass(class, classinfo): class가 classinfo의 subclass면 True\n",
    "        - super(): 자식클래스에서 부모클래스를 사용하고 싶은 경우\n",
    "    - 상속 정리\n",
    "        - 파이썬의 모든 클래스는 object로 부터 상속됨\n",
    "        - 부모 클래스의 모든 요소(속성, 메서드)가 상속됨\n",
    "        - super()를 통해 부모 클래스의 요소를 호출할 수 있음\n",
    "        - 메서드 오버라이딩을 통해 자식 클래스에서 재정의 가능함\n",
    "        - 상속관계에서의 이름 공간은 인스턴스, 자식 클래스, 부모 클래스 순으로 탐색\n",
    "    - 다중 상속\n",
    "        - 두개 이상의 클래스를 상속 받는 경우\n",
    "        - 상속받은 모든 클래스의 요소를 활용 가능함\n",
    "        - 중복된 속성이나 메서드가 있는 경우 상속 순서에 의해 결정됨(먼저 상속해주는 거 따라감)\n",
    "    - 상속 관련 함수와 메서드\n",
    "        - mro메서드(Method Resolution Order)\n",
    "            - 해당 인스턴스의 클래스가 어떤 부모 클래스를 가지는지 확인하는 메서드\n",
    "            - 기존의 인스턴스->클래스 순으로 이름공간을 탐색하는 과정에서 상속 관계에 있으면 인스턴스->자식 클래스-> 부모클래스로 확장\n",
    "3. 다형성(Polymorphism)\n",
    "    - 여러 모양을 뜻하는 그리스어\n",
    "    - 동일한 메서드가 클래스에 따라 다르게 행동할 수 있음을 의미\n",
    "    - 즉, 서로 다른 클래스에 속해있는 객체들이 동일한 메세지에 대해 다른 방식으로 응답할 수 있음\n",
    "    - 메서드 오버라이딩\n",
    "        - 상속받은 메서드를 재정의\n",
    "            - 클래스 상속 시, 부모 클래스에서 정의한 메서드를 자식 틀래스에서 변경\n",
    "            - 부모 클래스의 메서드 이름과 기본 기능은 그대로 사용하지만, 특정 기능을 바꾸고 싶을 때 사용\n",
    "            - 상속받은 클래스에서 같은 이름의 메서드로 덮어씀\n",
    "            - 부모 클래스의 메서드를 실행시키고 싶은 경우 super를 활용\n",
    "4. 캡슐화\n",
    "    - 객체의 일부 구현 내용에 대해 외부로부터의 직접적인 액세스를 차단(ex.주민등록번호)\n",
    "    - 파이썬에서 암묵적으로 존재하지만, 언어적으로는 존재하지 않음\n",
    "    - 접근제어자 종류\n",
    "        - Public Access Modifier\n",
    "            - 언더바 없이 시작하는 메서드나 속성\n",
    "            - 어디서나 호출이 가능, 하위 클래스 override 허용\n",
    "            - 일반적으로 작성되는 메서드와 속성의 대다수를 차지\n",
    "        - Protected Access Modifier\n",
    "            - 언더바 1개로 시작하는 메서드나 속성\n",
    "            - 암묵적인 규칙에 의해 부모 클래스 내부와 자식 클래스에서만 호출 가능\n",
    "            - 하위 클래스 override 허용\n",
    "        - Private Access Modifier\n",
    "            - 언더바 2개로 시작하는 메서드나 속성\n",
    "            - 본 클래스 내부에서만 사용이 가능\n",
    "            - 하위클래스 상속 및 호출 불가능(오류)\n",
    "            - 외부 호출 불가능(오류)\n",
    "    - getter 메서드와 setter 메서드\n",
    "        - 변수에 접근할 수 있는 메서드를 별도로 생성\n",
    "            - getter 메서드: 변수의 값을 읽는 메서드 (@property 데코레이터 사용)\n",
    "            - setter 메서드: 변수의 값을 설정하는 성격의 메서드 (@변수.setter 사용)\n",
    "\n",
    "### 에러/예외 처리\n",
    "- 디버깅\n",
    "    - 버그: 역사상 최초의 컴퓨터 버그는 Mark2 라는 컴퓨터 회로에 벌레인 나방이 들어가 합선을 일으켜 비정상적으로 동작\n",
    "    - 디버깅: 잘못된 프로그램을 수정하는 것\n",
    "- 에러와 예외\n",
    "    - 문법 에러\n",
    "        - Invalid syntax: 문법 오류\n",
    "        - assign to literal: 잘못된 할당\n",
    "        - EOL, EOF: 괄호 문제\n",
    "    - 예외\n",
    "        - 실행 도중 예상치 못한 상황을 맞이하면, 프로그램 실행을 멈춤(문장이나 표현식이 문법적으로 올바르더라도 발생하는 에러)\n",
    "        - 실행중에 감지되는 에러들을 예외라고 부름\n",
    "        - 사용자 정의 예외를 만들어 관리할 수 있음\n",
    "        -에러\n",
    "            - ZeroDivisonError: 10/0\n",
    "            - NameError: is not defined\n",
    "            - TypeError: int+str 타입 불일치, argument 개수 초과, argument 누락, argument type 불일치\n",
    "            - ValueError: 값이 적절하지 않거나 없는 경우\n",
    "            - IndexError: 인덱스가 존재하지 않거나 범위를 벗어나는 경우\n",
    "            - KeyError: 해당 키가 존재하지 않는 경우\n",
    "            - ModuleNotFoundError: 모듈을 찾지 못할 때\n",
    "            - ImportError: 모듈은 있으나 존재하지 않는 클래스, 함수를 가져오는 경우\n",
    "            - KeyboardInterrupt: 임의로 프로그램을 종료하였을 때\n",
    "            - IndentationError: 인덴테이션이 적절하지 않는 경우\n",
    "- 예외 처리\n",
    "    - try문(statement)/except절(clause)을 이용하여 예외처리를 할 수 있음\n",
    "    - try문: 오류가 발생할 가능성이 있는 코드를 실행, 예외가 발생되지 않으면, except 없이 실행 종료\n",
    "    - except문: 예외가 발생하면, except절이 실행, 예외 상황을 처리하는 코드를 받아서 적절한 조치를 취함\n",
    "    - try문에는 반드시 하나 이상의 except문이 필요\n",
    "    - 순차적으로 수행됨으로, 가장 작은 범주부터 예외 처리를 해야함\n",
    "    - 예외 처리 종합\n",
    "        - try: 코드를 실행함\n",
    "        - except: try문에서 예외가 발생시 실행함\n",
    "        - else : try문에서 예외가 발생하지 않으면 실행함\n",
    "        - finally: 예외 발생 여부와 관계없이 항상 실행함\n",
    "        \n",
    "- 예외 발생 시키기"
   ]
  },
  {
   "cell_type": "code",
   "execution_count": null,
   "metadata": {},
   "outputs": [],
   "source": []
  }
 ],
 "metadata": {
  "kernelspec": {
   "display_name": "Python 3.10.5 64-bit",
   "language": "python",
   "name": "python3"
  },
  "language_info": {
   "codemirror_mode": {
    "name": "ipython",
    "version": 3
   },
   "file_extension": ".py",
   "mimetype": "text/x-python",
   "name": "python",
   "nbconvert_exporter": "python",
   "pygments_lexer": "ipython3",
   "version": "3.10.5"
  },
  "orig_nbformat": 4,
  "vscode": {
   "interpreter": {
    "hash": "e3a2d55e2b7847c21802bd14d7498b583363bcf78edda0f72765dd1843b5d1bb"
   }
  }
 },
 "nbformat": 4,
 "nbformat_minor": 2
}
