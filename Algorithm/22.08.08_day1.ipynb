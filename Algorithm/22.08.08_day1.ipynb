{
 "cells": [
  {
   "cell_type": "markdown",
   "metadata": {},
   "source": [
    "# 배열\n",
    "- 알고리즘\n",
    "- 배열\n",
    "- 버블 정렬 (Bubble Sort)\n",
    "- 카운팅 정렬 (Counting Sort)\n",
    "- 완전검색\n",
    "- 그리디(Greedy Algorithm)"
   ]
  },
  {
   "cell_type": "markdown",
   "metadata": {},
   "source": [
    "#### 알고리즘\n",
    "\n",
    "- 알고리즘: 유한한 단계를 통해 문제를 해결하기 위한 절차나 방법\n",
    "- 무엇이 좋은 알고리즘인가?\n",
    "    - 정확성: 얼마나 정확하게 동작하는가\n",
    "    - 작업량: 얼마나 적은 연산으로 원하는 결과를 얻어내는가\n",
    "    - 메모리 사용량: 얼마나 적은 메모리를 사용하는가\n",
    "    - 단순성: 얼마나 단순한가\n",
    "    - 최적성: 더 이상 개선할 여지없이 최적화되었는가\n",
    "- 시간복잡도: 실제 걸리는 시간, 실행되는 명령문의 개수를 계산"
   ]
  },
  {
   "cell_type": "markdown",
   "metadata": {},
   "source": [
    "#### 배열\n",
    "\n",
    "- 배열: 일정한 자료형의 변수들을 하나의 이름으로 열거하여 사용하는 자료구조\n",
    "- 배열의 필요성\n",
    "    - 배열을 사용하면 하나의 선언을 통해 둘 이상의 변수 선언 가능\n",
    "    - 다수의 변수로는 하기 힘든 작업을 배열을 활용해 쉽게 가능\n",
    "- 1차원 배열의 선언\n",
    "    - 별도의 선언 방법이 없으면 변수에 처음 값을 할당할 때 생성 (ex. Arr=list(), Arr=[])\n",
    "    - 배열의 접근 (ex. Arr[idx]=20 -> 배열 Arr의 idx번 원소에 20을 저장하라)"
   ]
  },
  {
   "cell_type": "code",
   "execution_count": 3,
   "metadata": {},
   "outputs": [
    {
     "name": "stdout",
     "output_type": "stream",
     "text": [
      "7\n"
     ]
    }
   ],
   "source": [
    "# 9\n",
    "# 7 4 2 0 0 6 0 7 0\n",
    "# max값 찾기\n",
    "\n",
    "N = int(input())\n",
    "arr = list(map(int,input().split()))\n",
    "maxV =  arr[0] #첫번째 값을 max라 임의 설정\n",
    "for i in range(1, N): #나머지 모든 원소에 대해\n",
    "    if arr[i] > maxV:\n",
    "        maxV = arr[i]\n",
    "print(maxV)"
   ]
  },
  {
   "cell_type": "markdown",
   "metadata": {},
   "source": [
    "#### 정렬\n",
    "- 버블 정렬(시간 복잡도: O(n**2))\n",
    "    : 인접한 두개의 원소를 비교하며 자리를 계속 교환하는 방식\n",
    "- 카운팅 정렬: O(n+k)\n",
    "    : 항목들의 순서를 결정하기 위해 집합에 각 항목이 몇 개씩 있는지 세는 작업\n",
    "- 선택 정렬\n",
    "- 퀵 정렬\n",
    "- 삽입 정렬\n",
    "- 병합 정렬"
   ]
  }
 ],
 "metadata": {
  "kernelspec": {
   "display_name": "Python 3.10.5 64-bit",
   "language": "python",
   "name": "python3"
  },
  "language_info": {
   "codemirror_mode": {
    "name": "ipython",
    "version": 3
   },
   "file_extension": ".py",
   "mimetype": "text/x-python",
   "name": "python",
   "nbconvert_exporter": "python",
   "pygments_lexer": "ipython3",
   "version": "3.10.5"
  },
  "orig_nbformat": 4,
  "vscode": {
   "interpreter": {
    "hash": "e3a2d55e2b7847c21802bd14d7498b583363bcf78edda0f72765dd1843b5d1bb"
   }
  }
 },
 "nbformat": 4,
 "nbformat_minor": 2
}
